{
 "cells": [
  {
   "cell_type": "markdown",
   "metadata": {},
   "source": [
    "## setup"
   ]
  },
  {
   "cell_type": "code",
   "execution_count": 1,
   "metadata": {},
   "outputs": [],
   "source": [
    "from elucidate_client.core import ElucidateClient\n",
    "\n",
    "elucidate = ElucidateClient(\"https://elucidate.tt.di.huc.knaw.nl/annotation\")"
   ]
  },
  {
   "cell_type": "markdown",
   "metadata": {},
   "source": [
    "## create container"
   ]
  },
  {
   "cell_type": "code",
   "execution_count": 2,
   "metadata": {
    "scrolled": false
   },
   "outputs": [
    {
     "data": {
      "text/plain": [
       "<elucidate_client.core.ContainerIdentifier at 0x7f214c127af0>"
      ]
     },
     "execution_count": 2,
     "metadata": {},
     "output_type": "execute_result"
    }
   ],
   "source": [
    "container_id = elucidate.create_container(label='My First Container')\n",
    "container_id"
   ]
  },
  {
   "cell_type": "markdown",
   "metadata": {},
   "source": [
    "## read container"
   ]
  },
  {
   "cell_type": "code",
   "execution_count": 3,
   "metadata": {
    "scrolled": true
   },
   "outputs": [
    {
     "data": {
      "text/plain": [
       "{'@context': 'http://www.w3.org/ns/anno.jsonld',\n",
       " 'id': 'https://elucidate.tt.di.huc.knaw.nl/annotation/w3c/5effbbb9-7f0b-429b-a62d-bbc7b49404cd/',\n",
       " 'type': 'AnnotationCollection',\n",
       " 'label': 'My First Container',\n",
       " 'first': {'type': 'AnnotationPage',\n",
       "  'as:items': {'@list': []},\n",
       "  'partOf': 'https://elucidate.tt.di.huc.knaw.nl/annotation/w3c/5effbbb9-7f0b-429b-a62d-bbc7b49404cd/',\n",
       "  'startIndex': 0},\n",
       " 'last': 'https://elucidate.tt.di.huc.knaw.nl/annotation/w3c/5effbbb9-7f0b-429b-a62d-bbc7b49404cd/?page=0&desc=1',\n",
       " 'total': 0}"
      ]
     },
     "execution_count": 3,
     "metadata": {},
     "output_type": "execute_result"
    }
   ],
   "source": [
    "elucidate.read_container(container_id)"
   ]
  },
  {
   "cell_type": "markdown",
   "metadata": {},
   "source": [
    "## create annotation"
   ]
  },
  {
   "cell_type": "code",
   "execution_count": 4,
   "metadata": {},
   "outputs": [
    {
     "data": {
      "text/plain": [
       "'https://elucidate.tt.di.huc.knaw.nl/annotation/w3c/5effbbb9-7f0b-429b-a62d-bbc7b49404cd/130699d4-461c-4262-a5ea-e96cf8171113'"
      ]
     },
     "execution_count": 4,
     "metadata": {},
     "output_type": "execute_result"
    }
   ],
   "source": [
    "body= {\n",
    "\"type\": \"TextualBody\",\n",
    "\"value\": \"I despise this page!\"\n",
    "}\n",
    "target=\"http://www.example.com/404NotFound.html\"\n",
    "\n",
    "annotation_id=elucidate.create_annotation(container_id=container_id,body=body,target=target,custom={\"motivation\":\"tagging\"})\n",
    "annotation_id.url"
   ]
  },
  {
   "cell_type": "markdown",
   "metadata": {},
   "source": [
    "## read annotation\n",
    "\n",
    "- W3C :"
   ]
  },
  {
   "cell_type": "code",
   "execution_count": 5,
   "metadata": {
    "scrolled": false
   },
   "outputs": [
    {
     "data": {
      "text/plain": [
       "{'@context': 'http://www.w3.org/ns/anno.jsonld',\n",
       " 'id': 'https://elucidate.tt.di.huc.knaw.nl/annotation/w3c/5effbbb9-7f0b-429b-a62d-bbc7b49404cd/130699d4-461c-4262-a5ea-e96cf8171113',\n",
       " 'type': 'Annotation',\n",
       " 'body': {'type': 'TextualBody', 'value': 'I despise this page!'},\n",
       " 'target': 'http://www.example.com/404NotFound.html',\n",
       " 'motivation': 'tagging'}"
      ]
     },
     "execution_count": 5,
     "metadata": {},
     "output_type": "execute_result"
    }
   ],
   "source": [
    "elucidate.read_annotation(annotation_id)"
   ]
  },
  {
   "cell_type": "markdown",
   "metadata": {},
   "source": [
    "- OA :"
   ]
  },
  {
   "cell_type": "code",
   "execution_count": 6,
   "metadata": {
    "scrolled": false
   },
   "outputs": [
    {
     "data": {
      "text/plain": [
       "{'@context': 'http://www.w3.org/ns/anno.jsonld',\n",
       " 'id': 'https://elucidate.tt.di.huc.knaw.nl/annotation/oa/5effbbb9-7f0b-429b-a62d-bbc7b49404cd/130699d4-461c-4262-a5ea-e96cf8171113',\n",
       " 'type': 'Annotation',\n",
       " 'body': {'type': 'TextualBody', 'value': 'I despise this page!'},\n",
       " 'target': 'http://www.example.com/404NotFound.html',\n",
       " 'motivation': 'tagging'}"
      ]
     },
     "execution_count": 6,
     "metadata": {},
     "output_type": "execute_result"
    }
   ],
   "source": [
    "elucidate.use_oa()\n",
    "elucidate.read_annotation(annotation_id)"
   ]
  },
  {
   "cell_type": "markdown",
   "metadata": {},
   "source": [
    "## update annotation"
   ]
  },
  {
   "cell_type": "code",
   "execution_count": 7,
   "metadata": {
    "scrolled": true
   },
   "outputs": [],
   "source": [
    "new_body = {\n",
    "    \"type\": \"TextualBody\",\n",
    "    \"value\": \"Actually, it's not that bad!\"\n",
    "  }\n",
    "annotation_id=elucidate.update_annotation(annotation_id,body=new_body,target=\"http://example.org/target\")"
   ]
  },
  {
   "cell_type": "markdown",
   "metadata": {},
   "source": [
    "## delete annotation"
   ]
  },
  {
   "cell_type": "code",
   "execution_count": 8,
   "metadata": {
    "scrolled": true
   },
   "outputs": [
    {
     "ename": "AttributeError",
     "evalue": "'dict' object has no attribute 'container_uuid'",
     "output_type": "error",
     "traceback": [
      "\u001b[0;31m---------------------------------------------------------------------------\u001b[0m",
      "\u001b[0;31mAttributeError\u001b[0m                            Traceback (most recent call last)",
      "\u001b[0;32m<ipython-input-8-98e1180c5312>\u001b[0m in \u001b[0;36m<module>\u001b[0;34m\u001b[0m\n\u001b[0;32m----> 1\u001b[0;31m \u001b[0melucidate\u001b[0m\u001b[0;34m.\u001b[0m\u001b[0mdelete_annotation\u001b[0m\u001b[0;34m(\u001b[0m\u001b[0mannotation_id\u001b[0m\u001b[0;34m)\u001b[0m\u001b[0;34m\u001b[0m\u001b[0;34m\u001b[0m\u001b[0m\n\u001b[0m",
      "\u001b[0;32m~/anaconda3/lib/python3.8/site-packages/elucidate_client/core.py\u001b[0m in \u001b[0;36mdelete_annotation\u001b[0;34m(self, annotation_identifier)\u001b[0m\n\u001b[1;32m    131\u001b[0m \u001b[0;34m\u001b[0m\u001b[0m\n\u001b[1;32m    132\u001b[0m     \u001b[0;32mdef\u001b[0m \u001b[0mdelete_annotation\u001b[0m\u001b[0;34m(\u001b[0m\u001b[0mself\u001b[0m\u001b[0;34m,\u001b[0m \u001b[0mannotation_identifier\u001b[0m\u001b[0;34m:\u001b[0m \u001b[0mAnnotationIdentifier\u001b[0m\u001b[0;34m)\u001b[0m\u001b[0;34m:\u001b[0m\u001b[0;34m\u001b[0m\u001b[0;34m\u001b[0m\u001b[0m\n\u001b[0;32m--> 133\u001b[0;31m         \u001b[0murl\u001b[0m \u001b[0;34m=\u001b[0m \u001b[0;34mf'{self.base_uri}/{self.version}/{annotation_identifier.container_uuid}/{annotation_identifier.uuid}'\u001b[0m\u001b[0;34m\u001b[0m\u001b[0;34m\u001b[0m\u001b[0m\n\u001b[0m\u001b[1;32m    134\u001b[0m         \u001b[0mdel_headers\u001b[0m \u001b[0;34m=\u001b[0m \u001b[0;34m{\u001b[0m\u001b[0;34m'If-Match'\u001b[0m\u001b[0;34m:\u001b[0m \u001b[0;34m(\u001b[0m\u001b[0mannotation_identifier\u001b[0m\u001b[0;34m.\u001b[0m\u001b[0metag\u001b[0m\u001b[0;34m)\u001b[0m\u001b[0;34m}\u001b[0m\u001b[0;34m\u001b[0m\u001b[0;34m\u001b[0m\u001b[0m\n\u001b[1;32m    135\u001b[0m         \u001b[0mdel_headers\u001b[0m\u001b[0;34m.\u001b[0m\u001b[0mupdate\u001b[0m\u001b[0;34m(\u001b[0m\u001b[0mjsonld_headers\u001b[0m\u001b[0;34m)\u001b[0m\u001b[0;34m\u001b[0m\u001b[0;34m\u001b[0m\u001b[0m\n",
      "\u001b[0;31mAttributeError\u001b[0m: 'dict' object has no attribute 'container_uuid'"
     ]
    }
   ],
   "source": [
    "elucidate.delete_annotation(annotation_id)"
   ]
  },
  {
   "cell_type": "code",
   "execution_count": null,
   "metadata": {},
   "outputs": [],
   "source": [
    "elucidate.read_annotation(annotation_id)"
   ]
  },
  {
   "cell_type": "markdown",
   "metadata": {},
   "source": [
    "# ElucidateClient methods\n",
    "\n",
    "Use these methods to switch between elucidate's 2 *modes* :\n",
    "\n",
    "## use_w3c()\n",
    "    Switch to he W3C mode, where the annotations are formatted according to the W3C WebAnnotaton standard (this is the default mode)"
   ]
  },
  {
   "cell_type": "code",
   "execution_count": null,
   "metadata": {},
   "outputs": [],
   "source": [
    "from elucidate_client.core import AnnotationIdentifier\n",
    "annotation_id=AnnotationIdentifier('https://elucidate.tt.di.huc.knaw.nl/annotation/w3c/examples/8cb0aa0f-a4d2-4a17-aa7f-f09650aea901')\n",
    "\n",
    "elucidate.use_w3c()\n",
    "elucidate.read_annotation(annotation_id)"
   ]
  },
  {
   "cell_type": "markdown",
   "metadata": {},
   "source": [
    "## use_oa()\n",
    "    Switch to the OA mode, where the annotations are formatted according to the Open Annotation standard"
   ]
  },
  {
   "cell_type": "code",
   "execution_count": null,
   "metadata": {},
   "outputs": [],
   "source": [
    "elucidate.use_oa()\n",
    "elucidate.read_annotation(annotation_id)"
   ]
  },
  {
   "cell_type": "markdown",
   "metadata": {},
   "source": [
    "## create_container()\n",
    "    Create a new annotation container"
   ]
  },
  {
   "cell_type": "code",
   "execution_count": null,
   "metadata": {},
   "outputs": [],
   "source": []
  }
 ],
 "metadata": {
  "kernelspec": {
   "display_name": "Python 3",
   "language": "python",
   "name": "python3"
  },
  "language_info": {
   "codemirror_mode": {
    "name": "ipython",
    "version": 3
   },
   "file_extension": ".py",
   "mimetype": "text/x-python",
   "name": "python",
   "nbconvert_exporter": "python",
   "pygments_lexer": "ipython3",
   "version": "3.8.5"
  }
 },
 "nbformat": 4,
 "nbformat_minor": 2
}
